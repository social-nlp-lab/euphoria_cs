{
 "cells": [
  {
   "cell_type": "code",
   "execution_count": 9,
   "metadata": {},
   "outputs": [],
   "source": [
    "# get the users of r/euphoria that have also been active in drug subreddits during the same time frame\n",
    "# june 2019 to june 2022\n",
    "import pandas as pd\n",
    "import json\n",
    "import pickle\n",
    "from datetime import datetime\n",
    "\n",
    "# path = '/Users/laylabouzoubaa/Library/CloudStorage/OneDrive-SharedLibraries-DrexelUniversity/SocialNLP - Documents/Social_NLP_Lab/Datasets/Reddit Drug Data- RAW - DNT/Central/data'\n",
    "path = '/Users/laylabouzoubaa/Projects/PHD_RESEARCH/theeye/data/'\n",
    "\n",
    "drugs = ['ambien', 'benzodiazepines', 'cannabis', 'cocaine', 'LSD', 'MDMA', 'opiates',\n",
    "         'Psychedelics', 'shrooms',  'meth', 'ketamine', 'mescaline', 'kratom', 'leaves', 'trees', \n",
    "         'fentanyl', 'DMT', 'adderall']\n",
    "# stims produces an error, skipping for now\n",
    "# drugs2 = ['ketamine', 'mescaline', 'kratom', 'leaves', 'trees', \n",
    "#          'fentanyl', 'DMT', 'adderall']\n",
    "\n",
    "submission_vars = ['author', 'created_utc', 'subreddit', 'title', 'selftext', 'num_comments', 'score', 'id']"
   ]
  },
  {
   "cell_type": "code",
   "execution_count": 5,
   "metadata": {},
   "outputs": [],
   "source": [
    "# run py script with decode function\n",
    "import zstandard as zstd\n",
    "from process_zst2 import process_file\n",
    "\n",
    "euphoria_posts = process_file(path + 'euphoria/euphoria_submissions.zst', field='subreddit', value='euphoria')\n",
    "euphoria_posts = euphoria_posts[submission_vars]\n",
    "\n",
    "# filter for post from june 2019 to dec, 31 2022, and remove deleted posts and authors\n",
    "euphoria_posts['created_utc'] = pd.to_datetime(euphoria_posts['created_utc'], unit='s')\n",
    "euphoria_posts = euphoria_posts[(euphoria_posts['created_utc'] > '2019-06-01') & (euphoria_posts['created_utc'] < '2024-01-01')]\n",
    "euphoria_posts = euphoria_posts[euphoria_posts['author'] != '[deleted]']\n",
    "euphoria_posts = euphoria_posts[euphoria_posts['selftext'] != '[deleted]']\n",
    "euphoria_posts = euphoria_posts[euphoria_posts['selftext'] != '[removed]'] #30,047 posts"
   ]
  },
  {
   "cell_type": "code",
   "execution_count": 6,
   "metadata": {},
   "outputs": [],
   "source": [
    "pickle.dump(euphoria_posts, open('data/euphoria_posts_all.pkl', 'wb'))"
   ]
  },
  {
   "cell_type": "code",
   "execution_count": 11,
   "metadata": {},
   "outputs": [
    {
     "name": "stdout",
     "output_type": "stream",
     "text": [
      "ambien\n",
      "benzodiazepines\n"
     ]
    },
    {
     "name": "stderr",
     "output_type": "stream",
     "text": [
      "2021-09-07 04:35:16 : 100,000 : 0 : 34,079,500:89%\n",
      "2021-09-07 04:35:16 : 100,000 : 0 : 34,079,500:89%\n"
     ]
    },
    {
     "name": "stdout",
     "output_type": "stream",
     "text": [
      "cannabis\n",
      "cocaine\n"
     ]
    },
    {
     "name": "stderr",
     "output_type": "stream",
     "text": [
      "2021-04-09 04:04:13 : 100,000 : 0 : 32,768,750:61%\n",
      "2021-04-09 04:04:13 : 100,000 : 0 : 32,768,750:61%\n",
      "2022-05-24 01:34:17 : 200,000 : 0 : 49,284,200:92%\n",
      "2022-05-24 01:34:17 : 200,000 : 0 : 49,284,200:92%\n"
     ]
    },
    {
     "name": "stdout",
     "output_type": "stream",
     "text": [
      "LSD\n"
     ]
    },
    {
     "name": "stderr",
     "output_type": "stream",
     "text": [
      "2020-04-12 09:06:27 : 100,000 : 0 : 94,111,850:66%\n",
      "2020-04-12 09:06:27 : 100,000 : 0 : 94,111,850:66%\n",
      "2021-02-20 02:00:26 : 200,000 : 0 : 117,967,500:83%\n",
      "2021-02-20 02:00:26 : 200,000 : 0 : 117,967,500:83%\n",
      "2022-09-29 19:47:04 : 300,000 : 0 : 140,119,175:99%\n",
      "2022-09-29 19:47:04 : 300,000 : 0 : 140,119,175:99%\n"
     ]
    },
    {
     "name": "stdout",
     "output_type": "stream",
     "text": [
      "MDMA\n"
     ]
    },
    {
     "name": "stderr",
     "output_type": "stream",
     "text": [
      "2022-07-07 15:35:54 : 100,000 : 0 : 40,633,250:96%\n",
      "2022-07-07 15:35:54 : 100,000 : 0 : 40,633,250:96%\n"
     ]
    },
    {
     "name": "stdout",
     "output_type": "stream",
     "text": [
      "opiates\n"
     ]
    },
    {
     "name": "stderr",
     "output_type": "stream",
     "text": [
      "2022-08-28 14:46:13 : 100,000 : 0 : 83,363,700:98%\n",
      "2022-08-28 14:46:13 : 100,000 : 0 : 83,363,700:98%\n"
     ]
    },
    {
     "name": "stdout",
     "output_type": "stream",
     "text": [
      "Psychedelics\n",
      "shrooms\n"
     ]
    },
    {
     "name": "stderr",
     "output_type": "stream",
     "text": [
      "2020-05-18 07:59:48 : 100,000 : 0 : 61,736,325:37%\n",
      "2020-05-18 07:59:48 : 100,000 : 0 : 61,736,325:37%\n",
      "2021-03-20 15:26:44 : 200,000 : 0 : 101,976,350:61%\n",
      "2021-03-20 15:26:44 : 200,000 : 0 : 101,976,350:61%\n",
      "2022-02-08 04:02:09 : 300,000 : 0 : 128,715,650:77%\n",
      "2022-02-08 04:02:09 : 300,000 : 0 : 128,715,650:77%\n",
      "2022-11-28 13:42:26 : 400,000 : 0 : 167,574,518:100%\n",
      "2022-11-28 13:42:26 : 400,000 : 0 : 167,574,518:100%\n"
     ]
    },
    {
     "name": "stdout",
     "output_type": "stream",
     "text": [
      "meth\n",
      "ketamine\n",
      "mescaline\n",
      "kratom\n",
      "leaves\n"
     ]
    },
    {
     "name": "stderr",
     "output_type": "stream",
     "text": [
      "2022-02-15 15:16:14 : 100,000 : 0 : 64,357,825:98%\n",
      "2022-02-15 15:16:14 : 100,000 : 0 : 64,357,825:98%\n"
     ]
    },
    {
     "name": "stdout",
     "output_type": "stream",
     "text": [
      "trees\n"
     ]
    },
    {
     "name": "stderr",
     "output_type": "stream",
     "text": [
      "2019-12-17 17:11:48 : 100,000 : 0 : 573,453,125:81%\n",
      "2019-12-17 17:11:48 : 100,000 : 0 : 573,453,125:81%\n",
      "2020-06-12 19:15:44 : 200,000 : 0 : 599,537,050:85%\n",
      "2020-06-12 19:15:44 : 200,000 : 0 : 599,537,050:85%\n",
      "2021-02-02 13:54:52 : 300,000 : 0 : 634,796,225:90%\n",
      "2021-02-02 13:54:52 : 300,000 : 0 : 634,796,225:90%\n",
      "2021-11-30 00:33:46 : 400,000 : 0 : 659,045,100:94%\n",
      "2021-11-30 00:33:46 : 400,000 : 0 : 659,045,100:94%\n",
      "2022-08-26 16:50:05 : 500,000 : 0 : 696,663,625:99%\n",
      "2022-08-26 16:50:05 : 500,000 : 0 : 696,663,625:99%\n"
     ]
    },
    {
     "name": "stdout",
     "output_type": "stream",
     "text": [
      "fentanyl\n",
      "DMT\n"
     ]
    },
    {
     "name": "stderr",
     "output_type": "stream",
     "text": [
      "2022-10-15 16:37:40 : 100,000 : 0 : 46,091,039:100%\n",
      "2022-10-15 16:37:40 : 100,000 : 0 : 46,091,039:100%\n"
     ]
    },
    {
     "name": "stdout",
     "output_type": "stream",
     "text": [
      "adderall\n",
      "stims\n"
     ]
    },
    {
     "ename": "ZstdError",
     "evalue": "zstd decompress error: Unknown frame descriptor",
     "output_type": "error",
     "traceback": [
      "\u001b[0;31m---------------------------------------------------------------------------\u001b[0m",
      "\u001b[0;31mZstdError\u001b[0m                                 Traceback (most recent call last)",
      "Input \u001b[0;32mIn [11]\u001b[0m, in \u001b[0;36m<cell line: 5>\u001b[0;34m()\u001b[0m\n\u001b[1;32m      5\u001b[0m \u001b[38;5;28;01mfor\u001b[39;00m drug \u001b[38;5;129;01min\u001b[39;00m drugs:\n\u001b[1;32m      6\u001b[0m     \u001b[38;5;28mprint\u001b[39m(drug)\n\u001b[0;32m----> 7\u001b[0m     drug_posts \u001b[38;5;241m=\u001b[39m \u001b[43mprocess_file\u001b[49m\u001b[43m(\u001b[49m\u001b[43mpath\u001b[49m\u001b[43m \u001b[49m\u001b[38;5;241;43m+\u001b[39;49m\u001b[43m \u001b[49m\u001b[43mdrug\u001b[49m\u001b[43m \u001b[49m\u001b[38;5;241;43m+\u001b[39;49m\u001b[43m \u001b[49m\u001b[38;5;124;43m'\u001b[39;49m\u001b[38;5;124;43m/\u001b[39;49m\u001b[38;5;124;43m'\u001b[39;49m\u001b[43m \u001b[49m\u001b[38;5;241;43m+\u001b[39;49m\u001b[43m \u001b[49m\u001b[43mdrug\u001b[49m\u001b[43m \u001b[49m\u001b[38;5;241;43m+\u001b[39;49m\u001b[43m \u001b[49m\u001b[38;5;124;43m'\u001b[39;49m\u001b[38;5;124;43m_submissions.zst\u001b[39;49m\u001b[38;5;124;43m'\u001b[39;49m\u001b[43m,\u001b[49m\u001b[43m \u001b[49m\u001b[43mfield\u001b[49m\u001b[38;5;241;43m=\u001b[39;49m\u001b[38;5;124;43m'\u001b[39;49m\u001b[38;5;124;43msubreddit\u001b[39;49m\u001b[38;5;124;43m'\u001b[39;49m\u001b[43m,\u001b[49m\u001b[43m \u001b[49m\u001b[43mvalue\u001b[49m\u001b[38;5;241;43m=\u001b[39;49m\u001b[43mdrug\u001b[49m\u001b[43m,\u001b[49m\u001b[43m \u001b[49m\n\u001b[1;32m      8\u001b[0m \u001b[43m                              \u001b[49m\u001b[43mfrom_date\u001b[49m\u001b[38;5;241;43m=\u001b[39;49m\u001b[43mfrom_date\u001b[49m\u001b[43m,\u001b[49m\u001b[43m \u001b[49m\u001b[43mto_date\u001b[49m\u001b[38;5;241;43m=\u001b[39;49m\u001b[43mto_date\u001b[49m\u001b[43m)\u001b[49m\n\u001b[1;32m      9\u001b[0m     drug_posts \u001b[38;5;241m=\u001b[39m drug_posts[submission_vars]\n\u001b[1;32m     10\u001b[0m     drug_posts[\u001b[38;5;124m'\u001b[39m\u001b[38;5;124mcreated_utc\u001b[39m\u001b[38;5;124m'\u001b[39m] \u001b[38;5;241m=\u001b[39m pd\u001b[38;5;241m.\u001b[39mto_datetime(drug_posts[\u001b[38;5;124m'\u001b[39m\u001b[38;5;124mcreated_utc\u001b[39m\u001b[38;5;124m'\u001b[39m], unit\u001b[38;5;241m=\u001b[39m\u001b[38;5;124m'\u001b[39m\u001b[38;5;124ms\u001b[39m\u001b[38;5;124m'\u001b[39m)\n",
      "File \u001b[0;32m~/Projects/PHD_RESEARCH/euphoria-cs/py/process_zst2.py:55\u001b[0m, in \u001b[0;36mprocess_file\u001b[0;34m(file_path, field, value, from_date, to_date)\u001b[0m\n\u001b[1;32m     51\u001b[0m             buffer \u001b[38;5;241m=\u001b[39m lines[\u001b[38;5;241m-\u001b[39m\u001b[38;5;241m1\u001b[39m]\n\u001b[1;32m     53\u001b[0m         reader\u001b[38;5;241m.\u001b[39mclose()\n\u001b[0;32m---> 55\u001b[0m \u001b[38;5;28;01mfor\u001b[39;00m line, file_bytes_processed \u001b[38;5;129;01min\u001b[39;00m read_lines_zst(file_path):\n\u001b[1;32m     56\u001b[0m     \u001b[38;5;28;01mtry\u001b[39;00m:\n\u001b[1;32m     57\u001b[0m         obj \u001b[38;5;241m=\u001b[39m json\u001b[38;5;241m.\u001b[39mloads(line)\n",
      "File \u001b[0;32m~/Projects/PHD_RESEARCH/euphoria-cs/py/process_zst2.py:42\u001b[0m, in \u001b[0;36mprocess_file.<locals>.read_lines_zst\u001b[0;34m(file_name)\u001b[0m\n\u001b[1;32m     40\u001b[0m reader \u001b[38;5;241m=\u001b[39m zstandard\u001b[38;5;241m.\u001b[39mZstdDecompressor(max_window_size\u001b[38;5;241m=\u001b[39m\u001b[38;5;241m2\u001b[39m\u001b[38;5;241m*\u001b[39m\u001b[38;5;241m*\u001b[39m\u001b[38;5;241m31\u001b[39m)\u001b[38;5;241m.\u001b[39mstream_reader(file_handle)\n\u001b[1;32m     41\u001b[0m \u001b[38;5;28;01mwhile\u001b[39;00m \u001b[38;5;28;01mTrue\u001b[39;00m:\n\u001b[0;32m---> 42\u001b[0m     chunk \u001b[38;5;241m=\u001b[39m \u001b[43mread_and_decode\u001b[49m\u001b[43m(\u001b[49m\u001b[43mreader\u001b[49m\u001b[43m,\u001b[49m\u001b[43m \u001b[49m\u001b[38;5;241;43m2\u001b[39;49m\u001b[38;5;241;43m*\u001b[39;49m\u001b[38;5;241;43m*\u001b[39;49m\u001b[38;5;241;43m27\u001b[39;49m\u001b[43m,\u001b[49m\u001b[43m \u001b[49m\u001b[43m(\u001b[49m\u001b[38;5;241;43m2\u001b[39;49m\u001b[38;5;241;43m*\u001b[39;49m\u001b[38;5;241;43m*\u001b[39;49m\u001b[38;5;241;43m29\u001b[39;49m\u001b[43m)\u001b[49m\u001b[43m \u001b[49m\u001b[38;5;241;43m*\u001b[39;49m\u001b[43m \u001b[49m\u001b[38;5;241;43m2\u001b[39;49m\u001b[43m)\u001b[49m\n\u001b[1;32m     44\u001b[0m     \u001b[38;5;28;01mif\u001b[39;00m \u001b[38;5;129;01mnot\u001b[39;00m chunk:\n\u001b[1;32m     45\u001b[0m         \u001b[38;5;28;01mbreak\u001b[39;00m\n",
      "File \u001b[0;32m~/Projects/PHD_RESEARCH/euphoria-cs/py/process_zst2.py:25\u001b[0m, in \u001b[0;36mprocess_file.<locals>.read_and_decode\u001b[0;34m(reader, chunk_size, max_window_size, previous_chunk, bytes_read)\u001b[0m\n\u001b[1;32m     24\u001b[0m \u001b[38;5;28;01mdef\u001b[39;00m \u001b[38;5;21mread_and_decode\u001b[39m(reader, chunk_size, max_window_size, previous_chunk\u001b[38;5;241m=\u001b[39m\u001b[38;5;28;01mNone\u001b[39;00m, bytes_read\u001b[38;5;241m=\u001b[39m\u001b[38;5;241m0\u001b[39m):\n\u001b[0;32m---> 25\u001b[0m     chunk \u001b[38;5;241m=\u001b[39m \u001b[43mreader\u001b[49m\u001b[38;5;241;43m.\u001b[39;49m\u001b[43mread\u001b[49m\u001b[43m(\u001b[49m\u001b[43mchunk_size\u001b[49m\u001b[43m)\u001b[49m\n\u001b[1;32m     26\u001b[0m     bytes_read \u001b[38;5;241m+\u001b[39m\u001b[38;5;241m=\u001b[39m chunk_size\n\u001b[1;32m     27\u001b[0m     \u001b[38;5;28;01mif\u001b[39;00m previous_chunk \u001b[38;5;129;01mis\u001b[39;00m \u001b[38;5;129;01mnot\u001b[39;00m \u001b[38;5;28;01mNone\u001b[39;00m:\n",
      "\u001b[0;31mZstdError\u001b[0m: zstd decompress error: Unknown frame descriptor"
     ]
    }
   ],
   "source": [
    "# get all drug submission data ~ 20mins to run\n",
    "from_date = datetime.strptime(\"2019-06-01\", \"%Y-%m-%d\")\n",
    "to_date = datetime.strptime(\"2022-12-31\", \"%Y-%m-%d\")\n",
    "drug_authors = []\n",
    "for drug in drugs:\n",
    "    print(drug)\n",
    "    drug_posts = process_file(path + drug + '/' + drug + '_submissions.zst', field='subreddit', value=drug, \n",
    "                              from_date=from_date, to_date=to_date)\n",
    "    drug_posts = drug_posts[submission_vars]\n",
    "    drug_posts['created_utc'] = pd.to_datetime(drug_posts['created_utc'], unit='s')\n",
    "    drug_posts = drug_posts[(drug_posts['created_utc'] > '2019-06-01') & (drug_posts['created_utc'] < '2023-01-01')]\n",
    "    drug_posts = drug_posts[drug_posts['author'] != '[deleted]']\n",
    "    drug_posts = drug_posts[drug_posts['selftext'] != '[deleted]']\n",
    "    drug_posts = drug_posts[drug_posts['selftext'] != '[removed]']\n",
    "    drug_authors.append(drug_posts['author'].unique())\n"
   ]
  },
  {
   "cell_type": "code",
   "execution_count": 15,
   "metadata": {},
   "outputs": [],
   "source": [
    "# get users - 14,447 unique users\n",
    "e_users = euphoria_posts['author'].unique()\n",
    "d_users = [user for sublist in drug_authors for user in sublist]\n",
    "d_users = list(set(d_users)) #524,992 unique users"
   ]
  },
  {
   "cell_type": "code",
   "execution_count": 16,
   "metadata": {},
   "outputs": [],
   "source": [
    "# get users that are in both lists - 889 users\n",
    "common_users = [user for user in e_users if user in d_users] # 1,286 users"
   ]
  },
  {
   "cell_type": "code",
   "execution_count": 18,
   "metadata": {},
   "outputs": [],
   "source": [
    "# get posts of common users - 1,746 posts\n",
    "euphoria_posts_drugs = euphoria_posts[euphoria_posts['author'].isin(common_users)]\n",
    "pickle.dump(euphoria_posts_drugs, open('data/euphoria_posts_drugs.pkl', 'wb'))"
   ]
  },
  {
   "cell_type": "code",
   "execution_count": null,
   "metadata": {},
   "outputs": [],
   "source": [
    "# get post authors for drug subreddits\n",
    "# drugs = ['ambien', 'Autoflowers', 'benzodiazepines', 'cannabis', 'cocaine', 'LSD', 'MDMA', 'opiates',\n",
    "#          'Psychedelics', 'shrooms', 'stims']\n",
    "# # read drug redditor data\n",
    "# d_redditor = []\n",
    "# d_posts = []\n",
    "# for drug in drugs:\n",
    "#     print(drug)\n",
    "#     user = json.load(open(f'{path}/{drug}_redditor.json', 'r'))[1]\n",
    "#     posts = json.load(open(f'{path}/{drug}_submission.json', 'r'))[1]\n",
    "#     # authors = []\n",
    "#     for post in posts:\n",
    "#         try:\n",
    "#             # see if date is within range\n",
    "#             date = datetime.datetime.fromtimestamp(post['created_utc'])\n",
    "#             if date > datetime.datetime(2019, 6, 1) and date < datetime.datetime(2022, 6, 1):\n",
    "#                 author = post['author']\n",
    "#                 d_posts.append(author)\n",
    "#             # get user data, name where id = author\n",
    "#             # user_data = [x for x in user if x['id'] == author]\n",
    "#         except:\n",
    "#             pass\n",
    "    # for u in user:\n",
    "    #     try:\n",
    "    #         if u['id'] in d_posts:\n",
    "    #             d_redditor.append(u)\n",
    "    #     except:\n",
    "    #         pass"
   ]
  },
  {
   "cell_type": "code",
   "execution_count": 5,
   "metadata": {},
   "outputs": [],
   "source": [
    "# d_users = [post['author'] for post in d_posts]\n",
    "# d_users = list(set(d_posts)) #145,875 unique users who made posts in drug subreddits"
   ]
  },
  {
   "cell_type": "code",
   "execution_count": null,
   "metadata": {},
   "outputs": [],
   "source": [
    "# for drug in drugs:\n",
    "#     print(drug)\n",
    "#     user = json.load(open(f'{path}/{drug}_redditor.json', 'r'))[1]\n",
    "#     for u in user:\n",
    "#         try:\n",
    "#             if u['id'] in d_users:\n",
    "#                 d_redditor.append(u)\n",
    "#         except:\n",
    "#             pass"
   ]
  },
  {
   "cell_type": "code",
   "execution_count": null,
   "metadata": {},
   "outputs": [],
   "source": [
    "# dat2 = json.load(open(f'{path}/ambien_redditor.json', 'r'))[1]"
   ]
  },
  {
   "cell_type": "code",
   "execution_count": 10,
   "metadata": {},
   "outputs": [],
   "source": [
    "# create subset of users who have posted in r/euphoria and drug subreddit\n",
    "# d_redditor_df = pd.DataFrame(d_redditor)\n",
    "# d_redditor_df = d_redditor_df.drop_duplicates(subset='id')\n",
    "\n",
    "# e_user_drugs = [] #193 users\n",
    "# for user in e_users:\n",
    "#     if user in d_redditor_df['name'].values:\n",
    "#         e_user_drugs.append(user)"
   ]
  },
  {
   "cell_type": "code",
   "execution_count": 11,
   "metadata": {},
   "outputs": [],
   "source": [
    "# subset e post data from these users\n",
    "# e_posts_drugs = e_posts[e_posts['author'].isin(e_user_drugs)]\n",
    "# 283 posts from 193 users"
   ]
  },
  {
   "cell_type": "code",
   "execution_count": 12,
   "metadata": {},
   "outputs": [],
   "source": [
    "# pickle.dump(e_posts_drugs, open('../data/euph_drug_posts_2019_2022.p', 'wb'))\n",
    "# pickle.dump(d_redditor_df, open('../data/d_redditor_df.p', 'wb'))"
   ]
  }
 ],
 "metadata": {
  "kernelspec": {
   "display_name": "base",
   "language": "python",
   "name": "python3"
  },
  "language_info": {
   "codemirror_mode": {
    "name": "ipython",
    "version": 3
   },
   "file_extension": ".py",
   "mimetype": "text/x-python",
   "name": "python",
   "nbconvert_exporter": "python",
   "pygments_lexer": "ipython3",
   "version": "3.9.13"
  }
 },
 "nbformat": 4,
 "nbformat_minor": 2
}
